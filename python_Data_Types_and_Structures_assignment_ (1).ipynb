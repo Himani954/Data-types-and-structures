{
  "nbformat": 4,
  "nbformat_minor": 0,
  "metadata": {
    "colab": {
      "provenance": []
    },
    "kernelspec": {
      "name": "python3",
      "display_name": "Python 3"
    },
    "language_info": {
      "name": "python"
    }
  },
  "cells": [
    {
      "cell_type": "markdown",
      "source": [
        "1. what are data structure, and why are they important?"
      ],
      "metadata": {
        "id": "wfBB4K4W1YHF"
      }
    },
    {
      "cell_type": "markdown",
      "source": [
        "Ans1.Data structure are organized ways to store and manage data, enabling efficient access, modification, and munipulation."
      ],
      "metadata": {
        "id": "NYQaJJvQ119W"
      }
    },
    {
      "cell_type": "markdown",
      "source": [
        "2. Explain the differece between mutable and immtuble data types with example."
      ],
      "metadata": {
        "id": "J8jMC12f3IVe"
      }
    },
    {
      "cell_type": "markdown",
      "source": [
        "Ans2. Mutable data types can be modified after creation, while immutable data types cannot.\n",
        "\n",
        "\n",
        "Example;\n",
        "\n",
        " Mutable:list,dictionaries, sets    \n",
        "\n",
        "         my list = [1, 2, 3];\n",
        "\n",
        "         my_list[0] = 10 # [10, 2, 3]\n",
        "\n",
        "        immutable: Tuples, strings, integers\n",
        "\n",
        "        my_tuples= (1, 2, 3);\n",
        "\n",
        "        my_tuples[0] = 10 # Error"
      ],
      "metadata": {
        "id": "MkgGtbfY3llN"
      }
    },
    {
      "cell_type": "markdown",
      "source": [
        "3. what are the main difference between list and tuples in python?"
      ],
      "metadata": {
        "id": "1UpQaEcN800h"
      }
    },
    {
      "cell_type": "markdown",
      "source": [
        "Ans3. The main difference between lists and tuples is that lists are mutable,while tuples are immutable."
      ],
      "metadata": {
        "id": "SG4V9rhklsKD"
      }
    },
    {
      "cell_type": "markdown",
      "source": [
        "4. Describe how dictionaries store data."
      ],
      "metadata": {
        "id": "UMAXzDB4mRBj"
      }
    },
    {
      "cell_type": "markdown",
      "source": [
        "Ans4. Discribe store data as key-value pairs."
      ],
      "metadata": {
        "id": "TEUaOYH4mh1H"
      }
    },
    {
      "cell_type": "markdown",
      "source": [
        "5. Why might you use a set instead of a list in python?"
      ],
      "metadata": {
        "id": "XMy69WoNm6iJ"
      }
    },
    {
      "cell_type": "markdown",
      "source": [
        "Ans5. You might use a set instead of a list when you need to store unique elements and perform fast membership testing."
      ],
      "metadata": {
        "id": "MQuiI3V7o0HD"
      }
    },
    {
      "cell_type": "markdown",
      "source": [
        "6. What is a string in python, and how is it different from a list?"
      ],
      "metadata": {
        "id": "jsevKw4CpanY"
      }
    },
    {
      "cell_type": "markdown",
      "source": [
        "Ans6. A string is an immutable sequence of characters, whereas a list is a mutable collection of iteams."
      ],
      "metadata": {
        "id": "0OiDJIM-pwH5"
      }
    },
    {
      "cell_type": "markdown",
      "source": [
        "7. How do tuples ensure data integrity in python?"
      ],
      "metadata": {
        "id": "DlZT9VxaYwdR"
      }
    },
    {
      "cell_type": "markdown",
      "source": [
        "Ans7. Tuples ensure data integrity in python by being immutable, meaning their contents cannot be modified after creation, thus preventing unintended changes."
      ],
      "metadata": {
        "id": "h0X7ia-kZN7s"
      }
    },
    {
      "cell_type": "markdown",
      "source": [
        "8. What is a hash table, and how does it related to dictionary in python?"
      ],
      "metadata": {
        "id": "FEpGWqIPZ8ag"
      }
    },
    {
      "cell_type": "markdown",
      "source": [
        "Ans8. A hash table is a data structure that maps keys to values, and python dictionaries are implemented as hash tables."
      ],
      "metadata": {
        "id": "RfUuFLv-aZWb"
      }
    },
    {
      "cell_type": "markdown",
      "source": [
        "9. Can list contain different data types in python?"
      ],
      "metadata": {
        "id": "FbGOpFoebSQ3"
      }
    },
    {
      "cell_type": "markdown",
      "source": [
        "Ans9. Yes, Python list can contain different data types."
      ],
      "metadata": {
        "id": "ux-Qrqbbbfr6"
      }
    },
    {
      "cell_type": "markdown",
      "source": [
        "10.Explain why string are immutable in python."
      ],
      "metadata": {
        "id": "1gPfhjXRb16Q"
      }
    },
    {
      "cell_type": "markdown",
      "source": [
        "Ans10. Strings are immutable in python to ensure data integrity, security, and efficient memory management."
      ],
      "metadata": {
        "id": "PqAbvrlJcPOo"
      }
    },
    {
      "cell_type": "markdown",
      "source": [
        "11. What advantages do dictionaries offer over lists for certain tasks?"
      ],
      "metadata": {
        "id": "FonX55C6cs5d"
      }
    },
    {
      "cell_type": "markdown",
      "source": [
        "Ans11. Dictionaries offer fast lookups, efficient data retrieval, and meaningful key-based access, making them ideal for tasks that require associating keys with values."
      ],
      "metadata": {
        "id": "TjjJMWUQdrQb"
      }
    },
    {
      "cell_type": "markdown",
      "source": [
        "12. Describe a scenario where using a tuple would be preferable over a list?"
      ],
      "metadata": {
        "id": "ZeDx9wGhfMSh"
      }
    },
    {
      "cell_type": "markdown",
      "source": [
        "Ans12. When data shouldn't be changed, like days of the week oor months of the year, tuples are preferable over lists due to their immutability, ensuring data integrity."
      ],
      "metadata": {
        "id": "KisYPrOogV-r"
      }
    },
    {
      "cell_type": "markdown",
      "source": [
        "13. How do sets handle duplicate values in Python?\n"
      ],
      "metadata": {
        "id": "TlVA2a1ohA3Q"
      }
    },
    {
      "cell_type": "markdown",
      "source": [
        "Ans13. Sets in python automatically eliminate duplicate values, storing only unique elements."
      ],
      "metadata": {
        "id": "AE_uHBjuh7_7"
      }
    },
    {
      "cell_type": "markdown",
      "source": [
        "14. How does the “in” keyword work differently for lists and dictionaries?"
      ],
      "metadata": {
        "id": "_GCYUAzJie7p"
      }
    },
    {
      "cell_type": "markdown",
      "source": [
        "Ans14. For lists, 'in' checks for values, while for dictionaries, in checks for keys."
      ],
      "metadata": {
        "id": "7PtlwZc3i6qb"
      }
    },
    {
      "cell_type": "markdown",
      "source": [
        "15. Can you modify the elements of a tuple? Explain why or why not."
      ],
      "metadata": {
        "id": "bxy3lkGjj21R"
      }
    },
    {
      "cell_type": "markdown",
      "source": [
        "Ans15. No, tuples are immutable in python, meaning their elements cannot be modified after creation."
      ],
      "metadata": {
        "id": "ro8-Ywy5kJPv"
      }
    },
    {
      "cell_type": "markdown",
      "source": [
        "16. What is a nested dictionary, and give an example of its use case?\n"
      ],
      "metadata": {
        "id": "Jji-Z81nktpQ"
      }
    },
    {
      "cell_type": "markdown",
      "source": [
        "Ans16. A nested dictionary is a dictionary containing another dictionary as its value, useful for representing complex data like student records.\n",
        "\n",
        "Examples:\n",
        "       \n",
        "  student ={\n",
        "\n",
        "    'name':'john',\n",
        "     'grades':{\n",
        "          'math': 85,\n",
        "           'science' 90\n",
        "     }\n",
        "  }\n",
        "    \n"
      ],
      "metadata": {
        "id": "VnMafgbwk8Ib"
      }
    },
    {
      "cell_type": "markdown",
      "source": [
        "17. Describe the time complexity of accessing elements in a dictionary.\n"
      ],
      "metadata": {
        "id": "iCPMRnUBm3GR"
      }
    },
    {
      "cell_type": "markdown",
      "source": [
        "Ans17. The time complexity of accessing elements in a dictionary is 0(1), making dictionaries efficient for fast lookups."
      ],
      "metadata": {
        "id": "M1my9oNKnSMT"
      }
    },
    {
      "cell_type": "markdown",
      "source": [
        "18.  In what situations are lists preferred over dictionaries?\n"
      ],
      "metadata": {
        "id": "oVjmzejWoMkd"
      }
    },
    {
      "cell_type": "markdown",
      "source": [
        "Ans 18. List are preferred over  dictionaries when you need to store ordered collections of items or when you need to access elements by their index position."
      ],
      "metadata": {
        "id": "3WQrhNfloYWY"
      }
    },
    {
      "cell_type": "markdown",
      "source": [
        "19. Why are dictionaries considered unordered, and how does that affect data retrieval ?\n"
      ],
      "metadata": {
        "id": "_BiOzFYZpoRs"
      }
    },
    {
      "cell_type": "markdown",
      "source": [
        "Ans19. Dictionaries in order python verisons are unordered, affecting data retrieval, but in python 3.7+, they maintain insertion order."
      ],
      "metadata": {
        "id": "q2z0VBmNp0YU"
      }
    },
    {
      "cell_type": "markdown",
      "source": [
        "20. Explain the difference between a list and a dictionary in terms of data retrieval.\n"
      ],
      "metadata": {
        "id": "jNMlUfSorQYP"
      }
    },
    {
      "cell_type": "markdown",
      "source": [
        "Ans20. Lists retrieve data by index position, while dictionaries retrieve data by key."
      ],
      "metadata": {
        "id": "2ScAAHtErauB"
      }
    },
    {
      "cell_type": "markdown",
      "source": [
        "#practical"
      ],
      "metadata": {
        "id": "7MG5PwoTuJaL"
      }
    },
    {
      "cell_type": "markdown",
      "source": [
        "1. write a code to create a string with your name and print it."
      ],
      "metadata": {
        "id": "PeYoij2Iuq6K"
      }
    },
    {
      "cell_type": "code",
      "source": [
        "str = \"himani\"\n",
        "print(\"my name is\", str)"
      ],
      "metadata": {
        "colab": {
          "base_uri": "https://localhost:8080/"
        },
        "id": "2-zfmSSZvCmA",
        "outputId": "b4805410-c10a-439e-cdbe-e53431096b87"
      },
      "execution_count": null,
      "outputs": [
        {
          "output_type": "stream",
          "name": "stdout",
          "text": [
            "my name is himani\n"
          ]
        }
      ]
    },
    {
      "cell_type": "markdown",
      "source": [
        "2. Write a code to find the length of the string \"Hello World\".\n"
      ],
      "metadata": {
        "id": "boDJ1gEUv8ci"
      }
    },
    {
      "cell_type": "code",
      "source": [
        "str =\"hello world\"\n",
        "l=len(str)\n",
        "print(\"lengh=\",l)"
      ],
      "metadata": {
        "colab": {
          "base_uri": "https://localhost:8080/"
        },
        "id": "IJ4rLgLfwUkv",
        "outputId": "6258c5a2-0daa-4132-e38e-a6a172af9745"
      },
      "execution_count": null,
      "outputs": [
        {
          "output_type": "stream",
          "name": "stdout",
          "text": [
            "lengh= 11\n"
          ]
        }
      ]
    },
    {
      "cell_type": "markdown",
      "source": [
        "3. Write a code to slice the first 3 characters from the string \"Python Programming\".\n"
      ],
      "metadata": {
        "id": "5fxJ5SEAxs29"
      }
    },
    {
      "cell_type": "code",
      "source": [
        "str=\"python programming\"\n",
        "nstr=str[::-1]\n",
        "print(nstr)"
      ],
      "metadata": {
        "colab": {
          "base_uri": "https://localhost:8080/"
        },
        "id": "reCqE-UCx9rb",
        "outputId": "7c74a1f2-c499-4e8c-81c1-e59651911474"
      },
      "execution_count": null,
      "outputs": [
        {
          "output_type": "stream",
          "name": "stdout",
          "text": [
            "gnimmargorp nohtyp\n"
          ]
        }
      ]
    },
    {
      "cell_type": "markdown",
      "source": [
        "4. Write a code to convert the string \"hello\" to uppercase."
      ],
      "metadata": {
        "id": "NooeuvzUyn-o"
      }
    },
    {
      "cell_type": "code",
      "source": [
        "str= \"hello\"\n",
        "print(str.upper())"
      ],
      "metadata": {
        "colab": {
          "base_uri": "https://localhost:8080/"
        },
        "id": "csfCdGs8yxEv",
        "outputId": "973b1019-be65-4e57-e0db-bc2919b1e87b"
      },
      "execution_count": null,
      "outputs": [
        {
          "output_type": "stream",
          "name": "stdout",
          "text": [
            "HELLO\n"
          ]
        }
      ]
    },
    {
      "cell_type": "markdown",
      "source": [
        " 5.Write a code to replace the word \"apple\" with \"orange\" in the string \"I like apple\".\n"
      ],
      "metadata": {
        "id": "1hj5lG4yz1A5"
      }
    },
    {
      "cell_type": "code",
      "source": [
        "str = \"I like apple\"\n",
        "new_str= str.replace(\"apple\", \"orange\")\n",
        "print(new_str)"
      ],
      "metadata": {
        "colab": {
          "base_uri": "https://localhost:8080/"
        },
        "id": "EWzRkshaz_Ps",
        "outputId": "458f63a8-bf70-403c-f09f-a3e705c4024f"
      },
      "execution_count": null,
      "outputs": [
        {
          "output_type": "stream",
          "name": "stdout",
          "text": [
            "I like orange\n"
          ]
        }
      ]
    },
    {
      "cell_type": "markdown",
      "source": [
        "6. Write a code to create a list with numbers 1 to 5 and print it.\n"
      ],
      "metadata": {
        "id": "5Mqw5Sxd1TfO"
      }
    },
    {
      "cell_type": "code",
      "source": [
        "l=[1, 2, 3, 4, 5]\n",
        "print(l)"
      ],
      "metadata": {
        "colab": {
          "base_uri": "https://localhost:8080/"
        },
        "id": "5Zp-a57_1nHl",
        "outputId": "08cc767b-aca0-4beb-ebfc-96f0a2944363"
      },
      "execution_count": null,
      "outputs": [
        {
          "output_type": "stream",
          "name": "stdout",
          "text": [
            "[1, 2, 3, 4, 5]\n"
          ]
        }
      ]
    },
    {
      "cell_type": "markdown",
      "source": [
        "7. Write a code to append the number 10 to the list [1, 2, 3, 4].\n"
      ],
      "metadata": {
        "id": "CT6tvEbZ12kb"
      }
    },
    {
      "cell_type": "code",
      "source": [
        "l = [1, 2, 3,4]\n",
        "l.append(10)\n",
        "print(l)"
      ],
      "metadata": {
        "colab": {
          "base_uri": "https://localhost:8080/"
        },
        "id": "7z_dvXQO2BXP",
        "outputId": "826e55e0-97c1-4fbc-d49d-f00e7bcd24d7"
      },
      "execution_count": null,
      "outputs": [
        {
          "output_type": "stream",
          "name": "stdout",
          "text": [
            "[1, 2, 3, 4, 10]\n"
          ]
        }
      ]
    },
    {
      "cell_type": "markdown",
      "source": [
        "8. Write a code to remove the number 3 from the list [1, 2, 3, 4, 5].\n"
      ],
      "metadata": {
        "id": "Cm79Jsqo28r4"
      }
    },
    {
      "cell_type": "code",
      "source": [
        "l = [1, 2, 3, 4, 5]\n",
        "l.remove(3)\n",
        "print(l)"
      ],
      "metadata": {
        "colab": {
          "base_uri": "https://localhost:8080/"
        },
        "id": "_UZnEJGT3HKe",
        "outputId": "a1180122-b595-43e2-a3ab-b2504d899fde"
      },
      "execution_count": null,
      "outputs": [
        {
          "output_type": "stream",
          "name": "stdout",
          "text": [
            "[1, 2, 4, 5]\n"
          ]
        }
      ]
    },
    {
      "cell_type": "markdown",
      "source": [
        " 9. Write a code to access the second element in the list ['a', 'b', 'c', 'd'].\n"
      ],
      "metadata": {
        "id": "LnfaVpHe3Znw"
      }
    },
    {
      "cell_type": "code",
      "source": [
        "l = ['a','b', 'c','d',]\n",
        "print(l[2])"
      ],
      "metadata": {
        "colab": {
          "base_uri": "https://localhost:8080/"
        },
        "id": "jKq93rTf3idu",
        "outputId": "e4c7c8f7-9d99-455d-d97b-370db331dd19"
      },
      "execution_count": null,
      "outputs": [
        {
          "output_type": "stream",
          "name": "stdout",
          "text": [
            "c\n"
          ]
        }
      ]
    },
    {
      "cell_type": "markdown",
      "source": [
        " 10. Write a code to reverse the list [10, 20, 30, 40, 50]."
      ],
      "metadata": {
        "id": "YC6HmvMF4LWR"
      }
    },
    {
      "cell_type": "code",
      "source": [
        "l =[10, 20, 30, 40 ,50]\n",
        "nl = l [::-1]\n",
        "print(nl)"
      ],
      "metadata": {
        "colab": {
          "base_uri": "https://localhost:8080/"
        },
        "id": "NZWdrMDd4aa7",
        "outputId": "ea9a1b94-2b2d-4404-d150-a0126f505e57"
      },
      "execution_count": null,
      "outputs": [
        {
          "output_type": "stream",
          "name": "stdout",
          "text": [
            "[50, 40, 30, 20, 10]\n"
          ]
        }
      ]
    },
    {
      "cell_type": "markdown",
      "source": [
        "11. Write a code to create a tuple with the elements 100, 200, 300 and print it."
      ],
      "metadata": {
        "id": "Hw9gpKwr40h3"
      }
    },
    {
      "cell_type": "code",
      "source": [
        "t = (100, 200, 300)\n",
        "print(t)"
      ],
      "metadata": {
        "colab": {
          "base_uri": "https://localhost:8080/"
        },
        "id": "gNea7Raf5AsO",
        "outputId": "827118cb-e7e8-4678-ec96-77a2015d222a"
      },
      "execution_count": null,
      "outputs": [
        {
          "output_type": "stream",
          "name": "stdout",
          "text": [
            "(100, 200, 300)\n"
          ]
        }
      ]
    },
    {
      "cell_type": "markdown",
      "source": [
        "12. Write a code to access the second-to-last element of the tuple ('red', 'green', 'blue', 'yellow')."
      ],
      "metadata": {
        "id": "O4CaX3H55LXR"
      }
    },
    {
      "cell_type": "code",
      "source": [
        "t =('red', 'green', 'blue','yellow')\n",
        "print (t[1:])"
      ],
      "metadata": {
        "colab": {
          "base_uri": "https://localhost:8080/"
        },
        "id": "Be9GRaAq5Znk",
        "outputId": "c6972a8e-8619-4372-b93f-a2aea8b35e6d"
      },
      "execution_count": null,
      "outputs": [
        {
          "output_type": "stream",
          "name": "stdout",
          "text": [
            "('green', 'blue', 'yellow')\n"
          ]
        }
      ]
    },
    {
      "cell_type": "markdown",
      "source": [
        "13. Write a code to find the minimum number in the tuple (10, 20, 5, 15)."
      ],
      "metadata": {
        "id": "cDmI8Wpl57qa"
      }
    },
    {
      "cell_type": "code",
      "source": [
        "t = (10, 20, 5, 15)\n",
        "min_value = min(t)\n",
        "print(\"minimum number:\", min_value)\n"
      ],
      "metadata": {
        "colab": {
          "base_uri": "https://localhost:8080/"
        },
        "id": "ArOiBFUA6Hhf",
        "outputId": "636b599f-5496-4619-fb62-02c1f3da4ece"
      },
      "execution_count": null,
      "outputs": [
        {
          "output_type": "stream",
          "name": "stdout",
          "text": [
            "minimum number: 5\n"
          ]
        }
      ]
    },
    {
      "cell_type": "markdown",
      "source": [
        "14. Write a code to find the index of the element \"cat\" in the tuple ('dog', 'cat', 'rabbit')."
      ],
      "metadata": {
        "id": "A2LJk_FC7HbG"
      }
    },
    {
      "cell_type": "code",
      "source": [
        "animals = ('dog', 'cat', 'rabbit')\n",
        "index = animals.index('cat')\n",
        "print(\"Index of 'cat':\", index)"
      ],
      "metadata": {
        "colab": {
          "base_uri": "https://localhost:8080/"
        },
        "id": "iCJx7ScA7MWL",
        "outputId": "c46397a2-626f-4f32-c753-22a4317b7fa9"
      },
      "execution_count": null,
      "outputs": [
        {
          "output_type": "stream",
          "name": "stdout",
          "text": [
            "Index of 'cat': 1\n"
          ]
        }
      ]
    },
    {
      "cell_type": "markdown",
      "source": [
        "15. Write a code to create a tuple containing three different fruits and check if \"kiwi\" is in it."
      ],
      "metadata": {
        "id": "xbwOMYvT8NBz"
      }
    },
    {
      "cell_type": "code",
      "source": [
        "fruit = (\"apple\", \"banana\",\"orange\")\n",
        "if \"kiwi\" in fruit:\n",
        "    print(\"kiwi is in the tuples.\")\n",
        "else:\n",
        "   print(\"kiwi is not in the tuple.\")"
      ],
      "metadata": {
        "colab": {
          "base_uri": "https://localhost:8080/"
        },
        "id": "FHfpLOeB8RmA",
        "outputId": "ad141f08-e6b7-42e7-d400-12607e42233c"
      },
      "execution_count": null,
      "outputs": [
        {
          "output_type": "stream",
          "name": "stdout",
          "text": [
            "kiwi is not in the tuple.\n"
          ]
        }
      ]
    },
    {
      "cell_type": "markdown",
      "source": [
        "16. Write a code to create a set with the elements 'a', 'b', 'c' and print it."
      ],
      "metadata": {
        "id": "P_D7Bn4B9tQ7"
      }
    },
    {
      "cell_type": "code",
      "source": [
        "my_set = {'a', 'b', 'c'}\n",
        "print(my_set)"
      ],
      "metadata": {
        "colab": {
          "base_uri": "https://localhost:8080/"
        },
        "id": "2ZAbDjQr9vSo",
        "outputId": "d157a7f0-718e-4d5b-8593-81b5c5131a42"
      },
      "execution_count": null,
      "outputs": [
        {
          "output_type": "stream",
          "name": "stdout",
          "text": [
            "{'c', 'a', 'b'}\n"
          ]
        }
      ]
    },
    {
      "cell_type": "markdown",
      "source": [
        "17. Write a code to clear all elements from the set {1, 2, 3, 4, 5}."
      ],
      "metadata": {
        "id": "jd9yKSo6-dYl"
      }
    },
    {
      "cell_type": "code",
      "source": [
        "my_set = {1, 2, 3, 4, 5}\n",
        "my_set.clear()\n",
        "print(my_set)"
      ],
      "metadata": {
        "colab": {
          "base_uri": "https://localhost:8080/"
        },
        "id": "Dz0cmRV4--mt",
        "outputId": "7d0a86aa-653a-4d46-8942-d6d3d239e3de"
      },
      "execution_count": null,
      "outputs": [
        {
          "output_type": "stream",
          "name": "stdout",
          "text": [
            "set()\n"
          ]
        }
      ]
    },
    {
      "cell_type": "markdown",
      "source": [
        "18. Write a code to remove the element 4 from the set {1, 2, 3, 4}."
      ],
      "metadata": {
        "id": "H_SX-QOV_0qA"
      }
    },
    {
      "cell_type": "code",
      "source": [
        "my_set = {1, 2, 3, 4}\n",
        "my_set.remove(4)\n",
        "print(my_set)"
      ],
      "metadata": {
        "colab": {
          "base_uri": "https://localhost:8080/"
        },
        "id": "5skXDtQcABmd",
        "outputId": "dd4a58f3-5876-4d19-bb50-b8f6f461f93b"
      },
      "execution_count": null,
      "outputs": [
        {
          "output_type": "stream",
          "name": "stdout",
          "text": [
            "{1, 2, 3}\n"
          ]
        }
      ]
    },
    {
      "cell_type": "markdown",
      "source": [
        "19. Write a code to find the union of two sets {1, 2, 3} and {3, 4, 5}."
      ],
      "metadata": {
        "id": "RSNqK2r4A6VZ"
      }
    },
    {
      "cell_type": "code",
      "source": [
        "set1 = {1, 2, 3}\n",
        "set2 = {3, 4, 5}\n",
        "union_set = set1.union(set2)\n",
        "print(union_set)"
      ],
      "metadata": {
        "colab": {
          "base_uri": "https://localhost:8080/"
        },
        "id": "mLbo63n0A-t3",
        "outputId": "8843b352-b63d-4c7e-9a11-2f2fa0d7982a"
      },
      "execution_count": null,
      "outputs": [
        {
          "output_type": "stream",
          "name": "stdout",
          "text": [
            "{1, 2, 3, 4, 5}\n"
          ]
        }
      ]
    },
    {
      "cell_type": "markdown",
      "source": [
        "20. Write a code to find the intersection of two sets {1, 2, 3} and {2, 3, 4}."
      ],
      "metadata": {
        "id": "XMi4gK29C43c"
      }
    },
    {
      "cell_type": "code",
      "source": [
        "set1 = {1, 2, 3}\n",
        "set2 = {2, 3, 4}\n",
        "intersection_set = set1.intersection(set2)\n",
        "print(intersection_set)"
      ],
      "metadata": {
        "colab": {
          "base_uri": "https://localhost:8080/"
        },
        "id": "TT2gilW5C95o",
        "outputId": "6a1bcb3f-0184-4e23-8450-13d52885053c"
      },
      "execution_count": null,
      "outputs": [
        {
          "output_type": "stream",
          "name": "stdout",
          "text": [
            "{2, 3}\n"
          ]
        }
      ]
    },
    {
      "cell_type": "markdown",
      "source": [
        "21. Write a code to create a dictionary with the keys \"name\", \"age\", and \"city\", and print it."
      ],
      "metadata": {
        "id": "xf5beId8Ux-Q"
      }
    },
    {
      "cell_type": "code",
      "source": [
        "#create the dictionary\n",
        "my_dict = {\n",
        "    \"name\" : \"Himani\",\n",
        "    \"age\" : 20,\n",
        "    \"city\" : \"Alwar\"\n",
        "}\n",
        "#print the dictionary\n",
        "print(my_dict)"
      ],
      "metadata": {
        "colab": {
          "base_uri": "https://localhost:8080/"
        },
        "id": "rtaqws3MU6BY",
        "outputId": "005b1c36-da52-46a7-e8d9-32792a2eff58"
      },
      "execution_count": null,
      "outputs": [
        {
          "output_type": "stream",
          "name": "stdout",
          "text": [
            "{'name': 'Himani', 'age': 20, 'city': 'Alwar'}\n"
          ]
        }
      ]
    },
    {
      "cell_type": "markdown",
      "source": [
        "22. Write a code to add a new key-value pair \"country\": \"USA\" to the dictionary {'name': 'John', 'age': 25}."
      ],
      "metadata": {
        "id": "V-uFQwkFWhBZ"
      }
    },
    {
      "cell_type": "code",
      "source": [
        "my_dict = {'name': 'john', 'age': 25}\n",
        "my_dict['country'] = 'USA'\n",
        "\n",
        "print(my_dict)"
      ],
      "metadata": {
        "colab": {
          "base_uri": "https://localhost:8080/"
        },
        "id": "IC6UP0boWpQw",
        "outputId": "f3b77f30-a759-41aa-80a4-b395163660c0"
      },
      "execution_count": null,
      "outputs": [
        {
          "output_type": "stream",
          "name": "stdout",
          "text": [
            "{'name': 'john', 'age': 25, 'country': 'USA'}\n"
          ]
        }
      ]
    },
    {
      "cell_type": "markdown",
      "source": [
        "23. Write a code to access the value associated with the key \"name\" in the dictionary {'name': 'Alice', 'age': 30}."
      ],
      "metadata": {
        "id": "ikT_LVd5Xqnm"
      }
    },
    {
      "cell_type": "code",
      "source": [
        "my_dict = {'name': 'Alice', 'age' : 30}\n",
        "name_value = my_dict['name']\n",
        "print(name_value)"
      ],
      "metadata": {
        "colab": {
          "base_uri": "https://localhost:8080/"
        },
        "id": "hJGZVZtAX1El",
        "outputId": "4d16b5fe-b067-4bcb-8f02-0817eea4503c"
      },
      "execution_count": null,
      "outputs": [
        {
          "output_type": "stream",
          "name": "stdout",
          "text": [
            "Alice\n"
          ]
        }
      ]
    },
    {
      "cell_type": "markdown",
      "source": [
        "24. Write a code to remove the key \"age\" from the dictionary {'name': 'Bob', 'age': 22, 'city': 'New York'}."
      ],
      "metadata": {
        "id": "ZJ3AlWcXY6W9"
      }
    },
    {
      "cell_type": "code",
      "source": [
        "my_dict = {'name': 'Bob', 'age' :22, 'city': 'New york'}\n",
        "del my_dict['age']\n",
        "print(my_dict)"
      ],
      "metadata": {
        "colab": {
          "base_uri": "https://localhost:8080/"
        },
        "id": "QKiimvALZF01",
        "outputId": "50d006f2-f65c-40d7-d9dd-3d4d9069e0ef"
      },
      "execution_count": null,
      "outputs": [
        {
          "output_type": "stream",
          "name": "stdout",
          "text": [
            "{'name': 'Bob', 'city': 'New york'}\n"
          ]
        }
      ]
    },
    {
      "cell_type": "markdown",
      "source": [
        "25. Write a code to check if the key \"city\" exists in the dictionary {'name': 'Alice', 'city': 'Paris'}."
      ],
      "metadata": {
        "id": "brlKJ_ZFaDeY"
      }
    },
    {
      "cell_type": "code",
      "source": [
        "my_dict = {'name': 'Alice', 'city': 'Paris'}\n",
        "\n",
        "if 'city' in my_dict:\n",
        "    print(\"key 'city' exists in the dictionary\")\n",
        "else:\n",
        "   print(\"key 'city' does not exist.\")"
      ],
      "metadata": {
        "colab": {
          "base_uri": "https://localhost:8080/"
        },
        "id": "dfFPc-WSaJfz",
        "outputId": "a178df55-7c90-44f7-a9ac-bc6a472fa04b"
      },
      "execution_count": null,
      "outputs": [
        {
          "output_type": "stream",
          "name": "stdout",
          "text": [
            "key 'city' exists in the dictionary\n"
          ]
        }
      ]
    },
    {
      "cell_type": "markdown",
      "source": [
        "26. Write a code to create a list, a tuple, and a dictionary, and print them all."
      ],
      "metadata": {
        "id": "fF_P-D-QfVDt"
      }
    },
    {
      "cell_type": "code",
      "source": [
        "# create a lists\n",
        "my_list = [1, 2, 3, 4]\n",
        "\n",
        "#create a tuples\n",
        "my_tuples = ('apple', 'banana', 'cherry')\n",
        "# create a lists\n",
        "my_list = [1, 2, 3, 4]\n",
        "\n",
        "#create a tuples\n",
        "my_tuples = ('apple', 'banana', 'cherry')\n",
        "\n",
        "#create a dictionary\n",
        "my_dict = {'name': 'Alice', 'age': 30, 'city':'New York'}\n",
        "\n",
        "#print them all\n",
        "print(\"List:\", my_list)\n",
        "print(\"Tuple:\", my_tuples)\n",
        "print(\"Dictionary:\", my_dict)\n"
      ],
      "metadata": {
        "colab": {
          "base_uri": "https://localhost:8080/"
        },
        "id": "iAW0Ujm9fh4T",
        "outputId": "aa2e2768-6ca7-476a-ada2-8c7e2797f7df"
      },
      "execution_count": null,
      "outputs": [
        {
          "output_type": "stream",
          "name": "stdout",
          "text": [
            "List: [1, 2, 3, 4]\n",
            "Tuple: ('apple', 'banana', 'cherry')\n",
            "Dictionary: {'name': 'Alice', 'age': 30, 'city': 'New York'}\n"
          ]
        }
      ]
    },
    {
      "cell_type": "markdown",
      "source": [
        "27. Write a code to create a list of 5 random numbers between 1 and 100, sort it in ascending order, and print the\n",
        "result.(replaced)"
      ],
      "metadata": {
        "id": "SUOPCIQJlUrN"
      }
    },
    {
      "cell_type": "code",
      "source": [
        "import random\n",
        "import random\n",
        "\n",
        "# Create a list of 5 random numbers between 1 and 100\n",
        "random_list = [random.randint(1, 100) for _ in range(5)]\n",
        "\n",
        "# Sort the list in ascending order random_list.sort()\n",
        "random_list.sort()\n",
        "\n",
        "# Print the result\n",
        "print(\"sorted list:\", random_list)\n"
      ],
      "metadata": {
        "colab": {
          "base_uri": "https://localhost:8080/"
        },
        "id": "Ay3BqoKclwn6",
        "outputId": "8eb9d9cb-92bb-45ba-c4d5-4fcb7fc20580"
      },
      "execution_count": null,
      "outputs": [
        {
          "output_type": "stream",
          "name": "stdout",
          "text": [
            "sorted list: [9, 11, 16, 56, 74]\n"
          ]
        }
      ]
    },
    {
      "cell_type": "markdown",
      "source": [
        "28. Write a code to create a list with strings and print the element at the third index."
      ],
      "metadata": {
        "id": "fyTe8SsrnzzJ"
      }
    },
    {
      "cell_type": "code",
      "source": [
        "# Create a list with strings\n",
        "my_list = [\"apple\", \"banana\", \"cherry\", \"date\", \"elderberry\"]\n",
        "\n",
        "# Print the elements at the third\n",
        "index = 3 # index starts from 0\n",
        "print(\"Element at index 3:\", my_list[3])"
      ],
      "metadata": {
        "colab": {
          "base_uri": "https://localhost:8080/"
        },
        "id": "Rkg662snn4cf",
        "outputId": "7894c1e4-32af-4f2e-8715-9c31a53a3be8"
      },
      "execution_count": null,
      "outputs": [
        {
          "output_type": "stream",
          "name": "stdout",
          "text": [
            "Element at index 3: date\n"
          ]
        }
      ]
    },
    {
      "cell_type": "markdown",
      "source": [
        "29. Write a code to combine two dictionaries into one and print the result."
      ],
      "metadata": {
        "id": "7tF6OBYzprsu"
      }
    },
    {
      "cell_type": "code",
      "source": [
        "# Define two dictionaries\n",
        "dict1 = {'a': 1, 'b': 2}\n",
        "dict2 = {'c': 3, 'd':4}\n",
        "\n",
        "# Combine the dictionaries\n",
        "combined_dict = {**dict1, **dict2}\n",
        "\n",
        "# Print the result\n",
        "print(\"Combined Dictionary:\", combined_dict)"
      ],
      "metadata": {
        "colab": {
          "base_uri": "https://localhost:8080/"
        },
        "id": "yXppbs7_p2Iq",
        "outputId": "154b10d7-7573-4974-c5df-bfd301eb5135"
      },
      "execution_count": null,
      "outputs": [
        {
          "output_type": "stream",
          "name": "stdout",
          "text": [
            "Combined Dictionary: {'a': 1, 'b': 2, 'c': 3, 'd': 4}\n"
          ]
        }
      ]
    },
    {
      "cell_type": "markdown",
      "source": [
        "30. Write a code to convert a list of strings into a set."
      ],
      "metadata": {
        "id": "ga0yyOnnrotc"
      }
    },
    {
      "cell_type": "code",
      "source": [
        "# Define a list of strings\n",
        "my_list = [\"apple\", \"banana\", \"cherry\", \"apple\", \"banana\"]\n",
        "\n",
        "# Convert the list into a set\n",
        "my_set = set(my_list)\n",
        "\n",
        "# Print the result\n",
        "print(\"set:\", my_set)"
      ],
      "metadata": {
        "colab": {
          "base_uri": "https://localhost:8080/"
        },
        "id": "-OpcoqGnrtkm",
        "outputId": "8e4d6edd-12cc-46b4-8bdd-4ae321fa589c"
      },
      "execution_count": null,
      "outputs": [
        {
          "output_type": "stream",
          "name": "stdout",
          "text": [
            "set: {'apple', 'banana', 'cherry'}\n"
          ]
        }
      ]
    }
  ]
}